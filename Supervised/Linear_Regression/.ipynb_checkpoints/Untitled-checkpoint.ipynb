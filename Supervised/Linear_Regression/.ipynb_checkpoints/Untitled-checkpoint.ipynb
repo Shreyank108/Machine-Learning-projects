{
 "cells": [
  {
   "cell_type": "code",
   "execution_count": null,
   "id": "03f541aa-27b2-4e9a-8921-ed3f640883dd",
   "metadata": {},
   "outputs": [],
   "source": [
    "import numpy as np\n",
    "import pandas as pd\n",
    "import matplotlib.pyplot as plt\n",
    "import seaborn as sns"
   ]
  }
 ],
 "metadata": {
  "kernelspec": {
   "display_name": "",
   "name": ""
  },
  "language_info": {
   "name": ""
  }
 },
 "nbformat": 4,
 "nbformat_minor": 5
}
